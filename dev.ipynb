{
 "cells": [
  {
   "cell_type": "code",
   "execution_count": 15,
   "metadata": {},
   "outputs": [],
   "source": [
    "import sqlite3\n",
    "import json\n",
    "import pymysql \n"
   ]
  },
  {
   "cell_type": "code",
   "execution_count": 17,
   "metadata": {},
   "outputs": [],
   "source": [
    "import mysql.connector\n",
    "connection = pymysql.connect(host='127.0.0.1',\n",
    "                             user='root',\n",
    "                             password='12345678',\n",
    "                             db='flights')\n",
    "\n",
    "c = connection\n",
    "cursor = c.cursor()\n"
   ]
  },
  {
   "cell_type": "code",
   "execution_count": 69,
   "metadata": {},
   "outputs": [
    {
     "data": {
      "text/plain": [
       "{0: 'Korea',\n",
       " 1: 'Paris',\n",
       " 2: 'Finland',\n",
       " 3: 'Philippines',\n",
       " 4: 'China',\n",
       " 5: 'Canada',\n",
       " 6: 'Japan',\n",
       " 7: 'HKSAR',\n",
       " 8: 'Mexico',\n",
       " 9: 'United States',\n",
       " 10: 'Thailand',\n",
       " 11: 'Russia',\n",
       " 12: 'Hugary'}"
      ]
     },
     "execution_count": 69,
     "metadata": {},
     "output_type": "execute_result"
    }
   ],
   "source": [
    "def transform(cursor):\n",
    "     columns = [d[0] for d in cursor.description]\n",
    "     result = [dict(zip(columns, row)) for row in cursor.fetchall()]\n",
    "     return result \n",
    "\n",
    "cursor = connection.cursor()\n",
    "\n",
    "cursor.execute(\"SELECT DISTINCT Departure_City FROM flights\")\n",
    "result = transform(cursor)\n",
    "result = pd.DataFrame(result).Departure_City.to_dict()\n",
    "result"
   ]
  },
  {
   "cell_type": "code",
   "execution_count": 39,
   "metadata": {},
   "outputs": [
    {
     "data": {
      "text/plain": [
       "{0: 'Korea',\n",
       " 1: 'Paris',\n",
       " 2: 'Finland',\n",
       " 3: 'Philippines',\n",
       " 4: 'China',\n",
       " 5: 'Canada',\n",
       " 6: 'Japan',\n",
       " 7: 'HKSAR',\n",
       " 8: 'Mexico',\n",
       " 9: 'United States',\n",
       " 10: 'Thailand',\n",
       " 11: 'Russia',\n",
       " 12: 'Hugary'}"
      ]
     },
     "execution_count": 39,
     "metadata": {},
     "output_type": "execute_result"
    }
   ],
   "source": [
    "import pandas as pd \n",
    "pd.DataFrame(l).Departure_City.to_dict()"
   ]
  },
  {
   "cell_type": "code",
   "execution_count": 90,
   "metadata": {},
   "outputs": [],
   "source": [
    "import requests\n",
    "response = requests.put(\"http://127.0.0.1:5000/reset_password\", \n",
    "                                                json = {'username': 'steve', \n",
    "                                                        'password': password,\n",
    "                                                        'email': 'steve'})"
   ]
  },
  {
   "cell_type": "code",
   "execution_count": 97,
   "metadata": {},
   "outputs": [
    {
     "data": {
      "text/plain": [
       "True"
      ]
     },
     "execution_count": 97,
     "metadata": {},
     "output_type": "execute_result"
    }
   ],
   "source": [
    "def reset_password(username, email): \n",
    "    cursor = connection.cursor()\n",
    "    try:\n",
    "        _result = cursor.execute(\"\"\"SELECT User_ID FROM Users WHERE User_Name='{}' AND Email = '{}' \"\"\".format(username, email))\n",
    "        user_id = transform(cursor)[0].get('User_ID')\n",
    "    except: \n",
    "        _result = 0\n",
    "\n",
    "    if _result > 0: \n",
    "        cursor.execute(\"\"\"UPDATE users\n",
    "            SET Password = 123\n",
    "            WHERE User_ID = {}\n",
    "                \"\"\".format(user_id))\n",
    "        connection.commit()\n",
    "        result = True\n",
    "    \n",
    "    return result\n",
    "    \n",
    "reset_password('John','test')"
   ]
  },
  {
   "cell_type": "code",
   "execution_count": 89,
   "metadata": {},
   "outputs": [
    {
     "data": {
      "text/plain": [
       "1"
      ]
     },
     "execution_count": 89,
     "metadata": {},
     "output_type": "execute_result"
    }
   ],
   "source": [
    "len(l)"
   ]
  },
  {
   "cell_type": "code",
   "execution_count": 61,
   "metadata": {},
   "outputs": [
    {
     "data": {
      "text/plain": [
       "'John'"
      ]
     },
     "execution_count": 61,
     "metadata": {},
     "output_type": "execute_result"
    }
   ],
   "source": [
    "l[0].get('User_Name')"
   ]
  },
  {
   "cell_type": "code",
   "execution_count": 12,
   "metadata": {},
   "outputs": [],
   "source": [
    "c.cursor().execute(\"\"\" INSERT INTO users (User_Name, Creation_Date, Last_Login, Password, Email)\\\n",
    "                 VALUES ('{}',CURRENT_TIMESTAMP,NULL,'{}','{}');\n",
    "                 \"\"\".format('Steve','123','steve@gmail.com'))\n",
    "\n",
    "c.commit()\n",
    "c.close()"
   ]
  },
  {
   "cell_type": "code",
   "execution_count": null,
   "metadata": {},
   "outputs": [],
   "source": [
    "cur.comm"
   ]
  },
  {
   "cell_type": "code",
   "execution_count": 27,
   "metadata": {},
   "outputs": [
    {
     "data": {
      "text/plain": [
       "2"
      ]
     },
     "execution_count": 27,
     "metadata": {},
     "output_type": "execute_result"
    }
   ],
   "source": [
    "c = cur.execute(\"\"\"SELECT User_ID FROM users WHERE User_Name = 'John';\"\"\")\n",
    "\n"
   ]
  },
  {
   "cell_type": "code",
   "execution_count": 93,
   "metadata": {},
   "outputs": [],
   "source": [
    "c.execute(\"SELECT DISTINCT User_Name FROM users\")\n",
    "columns = columns = [d[0] for d in c.description]\n",
    "[dict(zip(columns, row)) for row in c.fetchall()]\n",
    "\n",
    "c.close()"
   ]
  },
  {
   "cell_type": "code",
   "execution_count": 58,
   "metadata": {},
   "outputs": [
    {
     "data": {
      "text/plain": [
       "[{'User_ID': 'user123'}]"
      ]
     },
     "execution_count": 58,
     "metadata": {},
     "output_type": "execute_result"
    }
   ],
   "source": [
    "\n",
    "def get_rows_as_dicts(cursor, table, y):\n",
    "    cursor.execute(\"\"\"SELECT User_ID FROM Users WHERE User_Name='{}' AND Password = '{}' \"\"\".format(table, y))\n",
    "    columns = [d[0] for d in cursor.description]\n",
    "    return [dict(zip(columns, row)) for row in cursor.fetchall()]\n",
    "\n",
    "r = get_rows_as_dicts(c,\"John\",\"12345678\")\n",
    "r\n"
   ]
  },
  {
   "cell_type": "code",
   "execution_count": 1,
   "metadata": {},
   "outputs": [
    {
     "data": {
      "text/plain": [
       "<Response [404]>"
      ]
     },
     "execution_count": 1,
     "metadata": {},
     "output_type": "execute_result"
    }
   ],
   "source": [
    "import requests\n",
    "requests.get(\"http://127.0.0.1:5000/origins\")"
   ]
  },
  {
   "cell_type": "code",
   "execution_count": 12,
   "metadata": {},
   "outputs": [
    {
     "data": {
      "text/plain": [
       "[{'Arrival_City': 'HKSAR',\n",
       "  'Available_Seats': 150,\n",
       "  'Departure_City': 'Korea',\n",
       "  'Departure_Date': 'Sat, 30 Dec 2023 21:30:00 GMT',\n",
       "  'Flight_Company': 'AirlineA',\n",
       "  'Flight_ID': 102},\n",
       " {'Arrival_City': 'Canada',\n",
       "  'Available_Seats': 150,\n",
       "  'Departure_City': 'Paris',\n",
       "  'Departure_Date': 'Sun, 26 Nov 2023 13:30:00 GMT',\n",
       "  'Flight_Company': 'AirlineA',\n",
       "  'Flight_ID': 103},\n",
       " {'Arrival_City': 'Australia',\n",
       "  'Available_Seats': 150,\n",
       "  'Departure_City': 'Finland',\n",
       "  'Departure_Date': 'Mon, 13 Nov 2023 11:30:00 GMT',\n",
       "  'Flight_Company': 'AirlineQ',\n",
       "  'Flight_ID': 104},\n",
       " {'Arrival_City': 'New Zealand',\n",
       "  'Available_Seats': 150,\n",
       "  'Departure_City': 'Finland',\n",
       "  'Departure_Date': 'Sat, 11 Nov 2023 04:30:00 GMT',\n",
       "  'Flight_Company': 'AirlineD',\n",
       "  'Flight_ID': 109},\n",
       " {'Arrival_City': 'Dubai',\n",
       "  'Available_Seats': 150,\n",
       "  'Departure_City': 'Philippines',\n",
       "  'Departure_Date': 'Sun, 10 Dec 2023 10:30:00 GMT',\n",
       "  'Flight_Company': 'AirlineO',\n",
       "  'Flight_ID': 143},\n",
       " {'Arrival_City': 'Japan',\n",
       "  'Available_Seats': 150,\n",
       "  'Departure_City': 'China',\n",
       "  'Departure_Date': 'Sun, 03 Dec 2023 02:30:00 GMT',\n",
       "  'Flight_Company': 'AirlineA',\n",
       "  'Flight_ID': 200},\n",
       " {'Arrival_City': 'United Kingdoms',\n",
       "  'Available_Seats': 150,\n",
       "  'Departure_City': 'Canada',\n",
       "  'Departure_Date': 'Tue, 12 Dec 2023 02:30:00 GMT',\n",
       "  'Flight_Company': 'AirlineY',\n",
       "  'Flight_ID': 201},\n",
       " {'Arrival_City': 'Norway',\n",
       "  'Available_Seats': 150,\n",
       "  'Departure_City': 'Japan',\n",
       "  'Departure_Date': 'Sun, 03 Dec 2023 05:30:00 GMT',\n",
       "  'Flight_Company': 'AirlineQ',\n",
       "  'Flight_ID': 203},\n",
       " {'Arrival_City': 'Hong Kong',\n",
       "  'Available_Seats': 150,\n",
       "  'Departure_City': 'Japan',\n",
       "  'Departure_Date': 'Fri, 15 Dec 2023 03:30:00 GMT',\n",
       "  'Flight_Company': 'AirlineY',\n",
       "  'Flight_ID': 208},\n",
       " {'Arrival_City': 'Switzerland',\n",
       "  'Available_Seats': 150,\n",
       "  'Departure_City': 'Japan',\n",
       "  'Departure_Date': 'Fri, 01 Dec 2023 10:30:00 GMT',\n",
       "  'Flight_Company': 'AirlineO',\n",
       "  'Flight_ID': 221},\n",
       " {'Arrival_City': 'Japan',\n",
       "  'Available_Seats': 150,\n",
       "  'Departure_City': 'HKSAR',\n",
       "  'Departure_Date': 'Mon, 18 Dec 2023 23:30:00 GMT',\n",
       "  'Flight_Company': 'AirlineD',\n",
       "  'Flight_ID': 230},\n",
       " {'Arrival_City': 'Brazil',\n",
       "  'Available_Seats': 150,\n",
       "  'Departure_City': 'HKSAR',\n",
       "  'Departure_Date': 'Tue, 12 Dec 2023 02:30:00 GMT',\n",
       "  'Flight_Company': 'AirlineC',\n",
       "  'Flight_ID': 231},\n",
       " {'Arrival_City': 'Japan',\n",
       "  'Available_Seats': 150,\n",
       "  'Departure_City': 'Mexico',\n",
       "  'Departure_Date': 'Wed, 13 Dec 2023 14:30:00 GMT',\n",
       "  'Flight_Company': 'AirlineY',\n",
       "  'Flight_ID': 294},\n",
       " {'Arrival_City': 'Italy',\n",
       "  'Available_Seats': 150,\n",
       "  'Departure_City': 'United States',\n",
       "  'Departure_Date': 'Wed, 20 Dec 2023 02:30:00 GMT',\n",
       "  'Flight_Company': 'AirlineY',\n",
       "  'Flight_ID': 302},\n",
       " {'Arrival_City': 'Vancouver',\n",
       "  'Available_Seats': 150,\n",
       "  'Departure_City': 'Canada',\n",
       "  'Departure_Date': 'Tue, 07 Nov 2023 20:30:00 GMT',\n",
       "  'Flight_Company': 'AirlineY',\n",
       "  'Flight_ID': 306},\n",
       " {'Arrival_City': 'United States',\n",
       "  'Available_Seats': 100,\n",
       "  'Departure_City': 'Korea',\n",
       "  'Departure_Date': 'Tue, 12 Dec 2023 10:45:00 GMT',\n",
       "  'Flight_Company': 'AirlineX',\n",
       "  'Flight_ID': 311},\n",
       " {'Arrival_City': 'Dubai',\n",
       "  'Available_Seats': 150,\n",
       "  'Departure_City': 'Thailand',\n",
       "  'Departure_Date': 'Thu, 09 Nov 2023 18:00:00 GMT',\n",
       "  'Flight_Company': 'AirlineQ',\n",
       "  'Flight_ID': 403},\n",
       " {'Arrival_City': 'Dubai',\n",
       "  'Available_Seats': 150,\n",
       "  'Departure_City': 'HKSAR',\n",
       "  'Departure_Date': 'Thu, 09 Nov 2023 22:30:00 GMT',\n",
       "  'Flight_Company': 'AirlineD',\n",
       "  'Flight_ID': 492},\n",
       " {'Arrival_City': 'HKSAR',\n",
       "  'Available_Seats': 150,\n",
       "  'Departure_City': 'Russia',\n",
       "  'Departure_Date': 'Sun, 31 Dec 2023 01:30:00 GMT',\n",
       "  'Flight_Company': 'AirlineC',\n",
       "  'Flight_ID': 501},\n",
       " {'Arrival_City': 'HKSAR',\n",
       "  'Available_Seats': 150,\n",
       "  'Departure_City': 'Hugary',\n",
       "  'Departure_Date': 'Sun, 03 Dec 2023 02:30:00 GMT',\n",
       "  'Flight_Company': 'AirlineC',\n",
       "  'Flight_ID': 604}]"
      ]
     },
     "execution_count": 12,
     "metadata": {},
     "output_type": "execute_result"
    }
   ],
   "source": [
    "response = requests.get(\"http://127.0.0.1:5000/overview\")\n",
    "response.json()"
   ]
  },
  {
   "cell_type": "code",
   "execution_count": 48,
   "metadata": {},
   "outputs": [],
   "source": [
    "import requests\n",
    "\n",
    "response = requests.put(\"http://127.0.0.1:5000/create\", json = {'username': 'John', 'password':'123145678','email':'test'})"
   ]
  },
  {
   "cell_type": "code",
   "execution_count": 49,
   "metadata": {},
   "outputs": [
    {
     "data": {
      "text/plain": [
       "200"
      ]
     },
     "execution_count": 49,
     "metadata": {},
     "output_type": "execute_result"
    }
   ],
   "source": [
    "response.json().get('status')"
   ]
  },
  {
   "cell_type": "code",
   "execution_count": 50,
   "metadata": {},
   "outputs": [
    {
     "ename": "ValueError",
     "evalue": "If using all scalar values, you must pass an index",
     "output_type": "error",
     "traceback": [
      "\u001b[0;31m---------------------------------------------------------------------------\u001b[0m",
      "\u001b[0;31mValueError\u001b[0m                                Traceback (most recent call last)",
      "\u001b[1;32m/Users/stevie/Desktop/sdsc5003/dev.ipynb Cell 18\u001b[0m line \u001b[0;36m2\n\u001b[1;32m      <a href='vscode-notebook-cell:/Users/stevie/Desktop/sdsc5003/dev.ipynb#X22sZmlsZQ%3D%3D?line=0'>1</a>\u001b[0m \u001b[39mimport\u001b[39;00m \u001b[39mpandas\u001b[39;00m \u001b[39mas\u001b[39;00m \u001b[39mpd\u001b[39;00m \n\u001b[0;32m----> <a href='vscode-notebook-cell:/Users/stevie/Desktop/sdsc5003/dev.ipynb#X22sZmlsZQ%3D%3D?line=1'>2</a>\u001b[0m pd\u001b[39m.\u001b[39;49mDataFrame(response\u001b[39m.\u001b[39;49mjson())\n",
      "File \u001b[0;32m~/Desktop/sdsc5003/venv/lib/python3.9/site-packages/pandas/core/frame.py:733\u001b[0m, in \u001b[0;36mDataFrame.__init__\u001b[0;34m(self, data, index, columns, dtype, copy)\u001b[0m\n\u001b[1;32m    727\u001b[0m     mgr \u001b[39m=\u001b[39m \u001b[39mself\u001b[39m\u001b[39m.\u001b[39m_init_mgr(\n\u001b[1;32m    728\u001b[0m         data, axes\u001b[39m=\u001b[39m{\u001b[39m\"\u001b[39m\u001b[39mindex\u001b[39m\u001b[39m\"\u001b[39m: index, \u001b[39m\"\u001b[39m\u001b[39mcolumns\u001b[39m\u001b[39m\"\u001b[39m: columns}, dtype\u001b[39m=\u001b[39mdtype, copy\u001b[39m=\u001b[39mcopy\n\u001b[1;32m    729\u001b[0m     )\n\u001b[1;32m    731\u001b[0m \u001b[39melif\u001b[39;00m \u001b[39misinstance\u001b[39m(data, \u001b[39mdict\u001b[39m):\n\u001b[1;32m    732\u001b[0m     \u001b[39m# GH#38939 de facto copy defaults to False only in non-dict cases\u001b[39;00m\n\u001b[0;32m--> 733\u001b[0m     mgr \u001b[39m=\u001b[39m dict_to_mgr(data, index, columns, dtype\u001b[39m=\u001b[39;49mdtype, copy\u001b[39m=\u001b[39;49mcopy, typ\u001b[39m=\u001b[39;49mmanager)\n\u001b[1;32m    734\u001b[0m \u001b[39melif\u001b[39;00m \u001b[39misinstance\u001b[39m(data, ma\u001b[39m.\u001b[39mMaskedArray):\n\u001b[1;32m    735\u001b[0m     \u001b[39mfrom\u001b[39;00m \u001b[39mnumpy\u001b[39;00m\u001b[39m.\u001b[39;00m\u001b[39mma\u001b[39;00m \u001b[39mimport\u001b[39;00m mrecords\n",
      "File \u001b[0;32m~/Desktop/sdsc5003/venv/lib/python3.9/site-packages/pandas/core/internals/construction.py:503\u001b[0m, in \u001b[0;36mdict_to_mgr\u001b[0;34m(data, index, columns, dtype, typ, copy)\u001b[0m\n\u001b[1;32m    499\u001b[0m     \u001b[39melse\u001b[39;00m:\n\u001b[1;32m    500\u001b[0m         \u001b[39m# dtype check to exclude e.g. range objects, scalars\u001b[39;00m\n\u001b[1;32m    501\u001b[0m         arrays \u001b[39m=\u001b[39m [x\u001b[39m.\u001b[39mcopy() \u001b[39mif\u001b[39;00m \u001b[39mhasattr\u001b[39m(x, \u001b[39m\"\u001b[39m\u001b[39mdtype\u001b[39m\u001b[39m\"\u001b[39m) \u001b[39melse\u001b[39;00m x \u001b[39mfor\u001b[39;00m x \u001b[39min\u001b[39;00m arrays]\n\u001b[0;32m--> 503\u001b[0m \u001b[39mreturn\u001b[39;00m arrays_to_mgr(arrays, columns, index, dtype\u001b[39m=\u001b[39;49mdtype, typ\u001b[39m=\u001b[39;49mtyp, consolidate\u001b[39m=\u001b[39;49mcopy)\n",
      "File \u001b[0;32m~/Desktop/sdsc5003/venv/lib/python3.9/site-packages/pandas/core/internals/construction.py:114\u001b[0m, in \u001b[0;36marrays_to_mgr\u001b[0;34m(arrays, columns, index, dtype, verify_integrity, typ, consolidate)\u001b[0m\n\u001b[1;32m    111\u001b[0m \u001b[39mif\u001b[39;00m verify_integrity:\n\u001b[1;32m    112\u001b[0m     \u001b[39m# figure out the index, if necessary\u001b[39;00m\n\u001b[1;32m    113\u001b[0m     \u001b[39mif\u001b[39;00m index \u001b[39mis\u001b[39;00m \u001b[39mNone\u001b[39;00m:\n\u001b[0;32m--> 114\u001b[0m         index \u001b[39m=\u001b[39m _extract_index(arrays)\n\u001b[1;32m    115\u001b[0m     \u001b[39melse\u001b[39;00m:\n\u001b[1;32m    116\u001b[0m         index \u001b[39m=\u001b[39m ensure_index(index)\n",
      "File \u001b[0;32m~/Desktop/sdsc5003/venv/lib/python3.9/site-packages/pandas/core/internals/construction.py:667\u001b[0m, in \u001b[0;36m_extract_index\u001b[0;34m(data)\u001b[0m\n\u001b[1;32m    664\u001b[0m         \u001b[39mraise\u001b[39;00m \u001b[39mValueError\u001b[39;00m(\u001b[39m\"\u001b[39m\u001b[39mPer-column arrays must each be 1-dimensional\u001b[39m\u001b[39m\"\u001b[39m)\n\u001b[1;32m    666\u001b[0m \u001b[39mif\u001b[39;00m \u001b[39mnot\u001b[39;00m indexes \u001b[39mand\u001b[39;00m \u001b[39mnot\u001b[39;00m raw_lengths:\n\u001b[0;32m--> 667\u001b[0m     \u001b[39mraise\u001b[39;00m \u001b[39mValueError\u001b[39;00m(\u001b[39m\"\u001b[39m\u001b[39mIf using all scalar values, you must pass an index\u001b[39m\u001b[39m\"\u001b[39m)\n\u001b[1;32m    669\u001b[0m \u001b[39mif\u001b[39;00m have_series:\n\u001b[1;32m    670\u001b[0m     index \u001b[39m=\u001b[39m union_indexes(indexes)\n",
      "\u001b[0;31mValueError\u001b[0m: If using all scalar values, you must pass an index"
     ]
    }
   ],
   "source": [
    "import pandas as pd \n",
    "pd.DataFrame(response.json())"
   ]
  },
  {
   "cell_type": "code",
   "execution_count": 56,
   "metadata": {},
   "outputs": [
    {
     "data": {
      "text/plain": [
       "200"
      ]
     },
     "execution_count": 56,
     "metadata": {},
     "output_type": "execute_result"
    }
   ],
   "source": [
    "response.status_code "
   ]
  },
  {
   "cell_type": "code",
   "execution_count": 30,
   "metadata": {},
   "outputs": [
    {
     "data": {
      "text/plain": [
       "500"
      ]
     },
     "execution_count": 30,
     "metadata": {},
     "output_type": "execute_result"
    }
   ],
   "source": [
    "response.status_code "
   ]
  },
  {
   "cell_type": "code",
   "execution_count": null,
   "metadata": {},
   "outputs": [],
   "source": []
  },
  {
   "cell_type": "code",
   "execution_count": 26,
   "metadata": {},
   "outputs": [],
   "source": [
    "if response.status_code == 200:\n",
    "    print(response.text)\n"
   ]
  },
  {
   "cell_type": "code",
   "execution_count": 91,
   "metadata": {},
   "outputs": [
    {
     "data": {
      "text/plain": [
       "'2023-12-04 07:06:05'"
      ]
     },
     "execution_count": 91,
     "metadata": {},
     "output_type": "execute_result"
    }
   ],
   "source": [
    "response.json().get('creation_date')"
   ]
  }
 ],
 "metadata": {
  "kernelspec": {
   "display_name": "env",
   "language": "python",
   "name": "python3"
  },
  "language_info": {
   "codemirror_mode": {
    "name": "ipython",
    "version": 3
   },
   "file_extension": ".py",
   "mimetype": "text/x-python",
   "name": "python",
   "nbconvert_exporter": "python",
   "pygments_lexer": "ipython3",
   "version": "3.9.13"
  },
  "orig_nbformat": 4
 },
 "nbformat": 4,
 "nbformat_minor": 2
}
