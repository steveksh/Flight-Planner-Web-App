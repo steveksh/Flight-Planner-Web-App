{
 "cells": [
  {
   "cell_type": "code",
   "execution_count": 2,
   "metadata": {},
   "outputs": [],
   "source": [
    "import sqlite3\n",
    "import json\n",
    "import pymysql \n"
   ]
  },
  {
   "cell_type": "code",
   "execution_count": 29,
   "metadata": {},
   "outputs": [],
   "source": [
    "import mysql.connector\n",
    "connection = pymysql.connect(host='127.0.0.1',\n",
    "                             user='root',\n",
    "                             password='12345678',\n",
    "                             db='flights')\n",
    "\n",
    "c = connection\n",
    "cursor = c.cursor()"
   ]
  },
  {
   "cell_type": "code",
   "execution_count": 99,
   "metadata": {},
   "outputs": [],
   "source": [
    "cursor.execute(\"\"\"UPDATE users\n",
    "            SET Password = '{}'\n",
    "            WHERE User_ID = {}\n",
    "                \"\"\".format('lol', 5))\n",
    "connection.commit()"
   ]
  },
  {
   "cell_type": "code",
   "execution_count": 90,
   "metadata": {},
   "outputs": [],
   "source": [
    "import requests\n",
    "response = requests.put(\"http://127.0.0.1:5000/reset_password\", \n",
    "                                                json = {'username': 'steve', \n",
    "                                                        'password': password,\n",
    "                                                        'email': 'steve'})"
   ]
  },
  {
   "cell_type": "code",
   "execution_count": 97,
   "metadata": {},
   "outputs": [
    {
     "data": {
      "text/plain": [
       "True"
      ]
     },
     "execution_count": 97,
     "metadata": {},
     "output_type": "execute_result"
    }
   ],
   "source": [
    "def reset_password(username, email): \n",
    "    cursor = connection.cursor()\n",
    "    try:\n",
    "        _result = cursor.execute(\"\"\"SELECT User_ID FROM Users WHERE User_Name='{}' AND Email = '{}' \"\"\".format(username, email))\n",
    "        user_id = transform(cursor)[0].get('User_ID')\n",
    "    except: \n",
    "        _result = 0\n",
    "\n",
    "    if _result > 0: \n",
    "        cursor.execute(\"\"\"UPDATE users\n",
    "            SET Password = 123\n",
    "            WHERE User_ID = {}\n",
    "                \"\"\".format(user_id))\n",
    "        connection.commit()\n",
    "        result = True\n",
    "    \n",
    "    return result\n",
    "    \n",
    "reset_password('John','test')"
   ]
  },
  {
   "cell_type": "code",
   "execution_count": 89,
   "metadata": {},
   "outputs": [
    {
     "data": {
      "text/plain": [
       "1"
      ]
     },
     "execution_count": 89,
     "metadata": {},
     "output_type": "execute_result"
    }
   ],
   "source": [
    "len(l)"
   ]
  },
  {
   "cell_type": "code",
   "execution_count": 61,
   "metadata": {},
   "outputs": [
    {
     "data": {
      "text/plain": [
       "'John'"
      ]
     },
     "execution_count": 61,
     "metadata": {},
     "output_type": "execute_result"
    }
   ],
   "source": [
    "l[0].get('User_Name')"
   ]
  },
  {
   "cell_type": "code",
   "execution_count": 12,
   "metadata": {},
   "outputs": [],
   "source": [
    "c.cursor().execute(\"\"\" INSERT INTO users (User_Name, Creation_Date, Last_Login, Password, Email)\\\n",
    "                 VALUES ('{}',CURRENT_TIMESTAMP,NULL,'{}','{}');\n",
    "                 \"\"\".format('Steve','123','steve@gmail.com'))\n",
    "\n",
    "c.commit()\n",
    "c.close()"
   ]
  },
  {
   "cell_type": "code",
   "execution_count": null,
   "metadata": {},
   "outputs": [],
   "source": [
    "cur.comm"
   ]
  },
  {
   "cell_type": "code",
   "execution_count": 27,
   "metadata": {},
   "outputs": [
    {
     "data": {
      "text/plain": [
       "2"
      ]
     },
     "execution_count": 27,
     "metadata": {},
     "output_type": "execute_result"
    }
   ],
   "source": [
    "c = cur.execute(\"\"\"SELECT User_ID FROM users WHERE User_Name = 'John';\"\"\")\n",
    "\n"
   ]
  },
  {
   "cell_type": "code",
   "execution_count": 93,
   "metadata": {},
   "outputs": [],
   "source": [
    "c.execute(\"SELECT DISTINCT User_Name FROM users\")\n",
    "columns = columns = [d[0] for d in c.description]\n",
    "[dict(zip(columns, row)) for row in c.fetchall()]\n",
    "\n",
    "c.close()"
   ]
  },
  {
   "cell_type": "code",
   "execution_count": 58,
   "metadata": {},
   "outputs": [
    {
     "data": {
      "text/plain": [
       "[{'User_ID': 'user123'}]"
      ]
     },
     "execution_count": 58,
     "metadata": {},
     "output_type": "execute_result"
    }
   ],
   "source": [
    "\n",
    "def get_rows_as_dicts(cursor, table, y):\n",
    "    cursor.execute(\"\"\"SELECT User_ID FROM Users WHERE User_Name='{}' AND Password = '{}' \"\"\".format(table, y))\n",
    "    columns = [d[0] for d in cursor.description]\n",
    "    return [dict(zip(columns, row)) for row in cursor.fetchall()]\n",
    "\n",
    "r = get_rows_as_dicts(c,\"John\",\"12345678\")\n",
    "r\n"
   ]
  },
  {
   "cell_type": "code",
   "execution_count": 41,
   "metadata": {},
   "outputs": [
    {
     "data": {
      "text/plain": [
       "{'User_ID': 'user123',\n",
       " 'User_Name': 'John',\n",
       " 'Creation_Date': datetime.datetime(2023, 12, 3, 23, 39, 46),\n",
       " 'Last_Login': None,\n",
       " 'Password': '12345678',\n",
       " 'Email': 'john@example.com'}"
      ]
     },
     "execution_count": 41,
     "metadata": {},
     "output_type": "execute_result"
    }
   ],
   "source": [
    "r[0]\n"
   ]
  },
  {
   "cell_type": "code",
   "execution_count": 64,
   "metadata": {},
   "outputs": [],
   "source": [
    "import requests\n",
    "\n",
    "\n",
    "response = requests.post(\"http://127.0.0.1:5000/login\", json = {'username': 'John', 'password':'123145678'})"
   ]
  },
  {
   "cell_type": "code",
   "execution_count": 15,
   "metadata": {},
   "outputs": [],
   "source": [
    "import requests\n",
    "\n",
    "response = requests.put(\"http://127.0.0.1:5000/create\", json = {'username': 'John', 'password':'123145678','email':'test'})"
   ]
  },
  {
   "cell_type": "code",
   "execution_count": 17,
   "metadata": {},
   "outputs": [
    {
     "data": {
      "text/plain": [
       "200"
      ]
     },
     "execution_count": 17,
     "metadata": {},
     "output_type": "execute_result"
    }
   ],
   "source": [
    "response.json().get('status')"
   ]
  },
  {
   "cell_type": "code",
   "execution_count": 72,
   "metadata": {},
   "outputs": [
    {
     "data": {
      "text/html": [
       "<div>\n",
       "<style scoped>\n",
       "    .dataframe tbody tr th:only-of-type {\n",
       "        vertical-align: middle;\n",
       "    }\n",
       "\n",
       "    .dataframe tbody tr th {\n",
       "        vertical-align: top;\n",
       "    }\n",
       "\n",
       "    .dataframe thead th {\n",
       "        text-align: right;\n",
       "    }\n",
       "</style>\n",
       "<table border=\"1\" class=\"dataframe\">\n",
       "  <thead>\n",
       "    <tr style=\"text-align: right;\">\n",
       "      <th></th>\n",
       "      <th>Arrival_City</th>\n",
       "      <th>Available_Seats</th>\n",
       "      <th>Departure_City</th>\n",
       "      <th>Departure_Date</th>\n",
       "      <th>Flight_Company</th>\n",
       "      <th>Flight_ID</th>\n",
       "    </tr>\n",
       "  </thead>\n",
       "  <tbody>\n",
       "    <tr>\n",
       "      <th>0</th>\n",
       "      <td>CityB</td>\n",
       "      <td>100</td>\n",
       "      <td>CityA</td>\n",
       "      <td>Sun, 10 Dec 2023 08:00:00 GMT</td>\n",
       "      <td>AirlineX</td>\n",
       "      <td>1</td>\n",
       "    </tr>\n",
       "    <tr>\n",
       "      <th>1</th>\n",
       "      <td>CityD</td>\n",
       "      <td>150</td>\n",
       "      <td>CityC</td>\n",
       "      <td>Tue, 12 Dec 2023 10:30:00 GMT</td>\n",
       "      <td>AirlineY</td>\n",
       "      <td>2</td>\n",
       "    </tr>\n",
       "  </tbody>\n",
       "</table>\n",
       "</div>"
      ],
      "text/plain": [
       "  Arrival_City  Available_Seats Departure_City                 Departure_Date  \\\n",
       "0        CityB              100          CityA  Sun, 10 Dec 2023 08:00:00 GMT   \n",
       "1        CityD              150          CityC  Tue, 12 Dec 2023 10:30:00 GMT   \n",
       "\n",
       "  Flight_Company  Flight_ID  \n",
       "0       AirlineX          1  \n",
       "1       AirlineY          2  "
      ]
     },
     "execution_count": 72,
     "metadata": {},
     "output_type": "execute_result"
    }
   ],
   "source": [
    "import pandas as pd \n",
    "pd.DataFrame(response.json())"
   ]
  },
  {
   "cell_type": "code",
   "execution_count": 56,
   "metadata": {},
   "outputs": [
    {
     "data": {
      "text/plain": [
       "200"
      ]
     },
     "execution_count": 56,
     "metadata": {},
     "output_type": "execute_result"
    }
   ],
   "source": [
    "response.status_code "
   ]
  },
  {
   "cell_type": "code",
   "execution_count": 30,
   "metadata": {},
   "outputs": [
    {
     "data": {
      "text/plain": [
       "500"
      ]
     },
     "execution_count": 30,
     "metadata": {},
     "output_type": "execute_result"
    }
   ],
   "source": [
    "response.status_code "
   ]
  },
  {
   "cell_type": "code",
   "execution_count": null,
   "metadata": {},
   "outputs": [],
   "source": []
  },
  {
   "cell_type": "code",
   "execution_count": 26,
   "metadata": {},
   "outputs": [],
   "source": [
    "if response.status_code == 200:\n",
    "    print(response.text)\n"
   ]
  },
  {
   "cell_type": "code",
   "execution_count": 91,
   "metadata": {},
   "outputs": [
    {
     "data": {
      "text/plain": [
       "'2023-12-04 07:06:05'"
      ]
     },
     "execution_count": 91,
     "metadata": {},
     "output_type": "execute_result"
    }
   ],
   "source": [
    "response.json().get('creation_date')"
   ]
  }
 ],
 "metadata": {
  "kernelspec": {
   "display_name": "env",
   "language": "python",
   "name": "python3"
  },
  "language_info": {
   "codemirror_mode": {
    "name": "ipython",
    "version": 3
   },
   "file_extension": ".py",
   "mimetype": "text/x-python",
   "name": "python",
   "nbconvert_exporter": "python",
   "pygments_lexer": "ipython3",
   "version": "3.9.13"
  },
  "orig_nbformat": 4
 },
 "nbformat": 4,
 "nbformat_minor": 2
}
